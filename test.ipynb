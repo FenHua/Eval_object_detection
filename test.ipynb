{
 "cells": [
  {
   "cell_type": "code",
   "execution_count": 25,
   "metadata": {},
   "outputs": [
    {
     "name": "stdout",
     "output_type": "stream",
     "text": [
      "Your Folder's path: ['sample/prediction/', 'sample/test_annos/']\n",
      "Overlap Ratio: 0.5\n",
      "Threshold: 0.5\n",
      "Num of Categories: 2\n",
      "Precision: True\n",
      "Recall: True\n",
      "FPPIW: True\n",
      "Calculating......\n",
      "Num of prediction files:  20\n",
      "Num of ground truth files:  20\n",
      "Got prediction file input in TXT type \n",
      "Got ground truth file input in XML type \n",
      "class  1  Ap:  0.900246812011518\n",
      "class  1 precision:  0.9041916167664671\n",
      "class  1 recall:  0.9151515151515152\n",
      "FPPW:  0.09580838323353294 FPPI 0.09696969696969697\n",
      "mAp:  0.900246812011518\n"
     ]
    }
   ],
   "source": [
    "##### coding=utf-8\n",
    "from evaluation import *\n",
    "\n",
    "# 默认配置设置，用于后期评价函数的使用\n",
    "cfg = {'file_dir': './','overlapRatio': 0.5,'cls': 2,'presicion': False,'recall': False,'threshold': 0.5,'FPPIW': False,'roc': False,'pr': False}\n",
    "\n",
    "\n",
    "if __name__ == \"__main__\":\n",
    "    # 参数设置\n",
    "    dir = ['sample/prediction/', 'sample/test_annos/']  # 预测结果与ground truth结果\n",
    "    overlapRatio = 0.3  # IoU大小\n",
    "    threshold = 0.5  # float类型，由于预测结果中存在score值，此阈值决定当前结果的有效性\n",
    "    cls = 2  # 数据类别的个数，包含背景\n",
    "    precision = True  # 是否返回精度指标\n",
    "    recall = True  # 是否返回recall指标\n",
    "    FPPIW = True  # 是否返回 False Positive Per Image 和 False Positive Per Window\n",
    "    roc = True  # 是否返回ROC评价指标\n",
    "    pr = True  # 是否返回precision-recall曲线\n",
    "    # 输出设置\n",
    "    print (\"Your Folder's path: {}\".format(dir))\n",
    "    print (\"Overlap Ratio: {}\".format(overlapRatio))\n",
    "    print (\"Threshold: {}\".format(threshold))\n",
    "    print (\"Num of Categories: {}\".format(cls))\n",
    "    print (\"Precision: {}\".format(precision))\n",
    "    print (\"Recall: {}\".format(recall))\n",
    "    print (\"FPPIW: {}\".format(FPPIW))\n",
    "    print(\"Calculating......\")\n",
    "    # 更新配置文件\n",
    "    cfg['file_dir'] = dir\n",
    "    cfg['overlapRatio'] = overlapRatio\n",
    "    cfg['cls'] = cls\n",
    "    cfg['precision'] = precision\n",
    "    cfg['recall'] = recall\n",
    "    cfg['threshold'] = threshold\n",
    "    cfg['FPPIW'] = FPPIW\n",
    "    cfg['roc'] = roc\n",
    "    cfg['pr'] = pr\n",
    "    # 计算\n",
    "    eval = evaluation(cfg)\n",
    "    eval.run()"
   ]
  },
  {
   "cell_type": "code",
   "execution_count": null,
   "metadata": {
    "collapsed": true
   },
   "outputs": [],
   "source": []
  },
  {
   "cell_type": "code",
   "execution_count": null,
   "metadata": {
    "collapsed": true
   },
   "outputs": [],
   "source": []
  }
 ],
 "metadata": {
  "kernelspec": {
   "display_name": "Python 3",
   "language": "python",
   "name": "python3"
  },
  "language_info": {
   "codemirror_mode": {
    "name": "ipython",
    "version": 3
   },
   "file_extension": ".py",
   "mimetype": "text/x-python",
   "name": "python",
   "nbconvert_exporter": "python",
   "pygments_lexer": "ipython3",
   "version": "3.6.8"
  }
 },
 "nbformat": 4,
 "nbformat_minor": 2
}
